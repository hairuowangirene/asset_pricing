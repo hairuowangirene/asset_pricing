{
 "cells": [
  {
   "cell_type": "code",
   "execution_count": 1,
   "id": "ca9390cf",
   "metadata": {
    "scrolled": true
   },
   "outputs": [
    {
     "name": "stdout",
     "output_type": "stream",
     "text": [
      "Requirement already satisfied: dataframe_image in /Users/irenewang/opt/miniconda3/lib/python3.9/site-packages (0.1.5)\n",
      "Requirement already satisfied: matplotlib>=3.1 in /Users/irenewang/opt/miniconda3/lib/python3.9/site-packages (from dataframe_image) (3.6.2)\n",
      "Requirement already satisfied: nbconvert>=5 in /Users/irenewang/opt/miniconda3/lib/python3.9/site-packages (from dataframe_image) (6.5.4)\n",
      "Requirement already satisfied: beautifulsoup4 in /Users/irenewang/opt/miniconda3/lib/python3.9/site-packages (from dataframe_image) (4.11.1)\n",
      "Requirement already satisfied: mistune in /Users/irenewang/opt/miniconda3/lib/python3.9/site-packages (from dataframe_image) (0.8.4)\n",
      "Requirement already satisfied: packaging in /Users/irenewang/opt/miniconda3/lib/python3.9/site-packages (from dataframe_image) (21.3)\n",
      "Requirement already satisfied: requests in /Users/irenewang/opt/miniconda3/lib/python3.9/site-packages (from dataframe_image) (2.27.1)\n",
      "Requirement already satisfied: pandas>=0.24 in /Users/irenewang/opt/miniconda3/lib/python3.9/site-packages (from dataframe_image) (1.5.2)\n",
      "Requirement already satisfied: aiohttp in /Users/irenewang/opt/miniconda3/lib/python3.9/site-packages (from dataframe_image) (3.8.4)\n",
      "Requirement already satisfied: contourpy>=1.0.1 in /Users/irenewang/opt/miniconda3/lib/python3.9/site-packages (from matplotlib>=3.1->dataframe_image) (1.0.6)\n",
      "Requirement already satisfied: fonttools>=4.22.0 in /Users/irenewang/opt/miniconda3/lib/python3.9/site-packages (from matplotlib>=3.1->dataframe_image) (4.38.0)\n",
      "Requirement already satisfied: cycler>=0.10 in /Users/irenewang/opt/miniconda3/lib/python3.9/site-packages (from matplotlib>=3.1->dataframe_image) (0.11.0)\n",
      "Requirement already satisfied: python-dateutil>=2.7 in /Users/irenewang/opt/miniconda3/lib/python3.9/site-packages (from matplotlib>=3.1->dataframe_image) (2.8.2)\n",
      "Requirement already satisfied: kiwisolver>=1.0.1 in /Users/irenewang/opt/miniconda3/lib/python3.9/site-packages (from matplotlib>=3.1->dataframe_image) (1.4.4)\n",
      "Requirement already satisfied: pyparsing>=2.2.1 in /Users/irenewang/opt/miniconda3/lib/python3.9/site-packages (from matplotlib>=3.1->dataframe_image) (3.0.9)\n",
      "Requirement already satisfied: numpy>=1.19 in /Users/irenewang/opt/miniconda3/lib/python3.9/site-packages (from matplotlib>=3.1->dataframe_image) (1.23.5)\n",
      "Requirement already satisfied: pillow>=6.2.0 in /Users/irenewang/opt/miniconda3/lib/python3.9/site-packages (from matplotlib>=3.1->dataframe_image) (9.3.0)\n",
      "Requirement already satisfied: pygments>=2.4.1 in /Users/irenewang/opt/miniconda3/lib/python3.9/site-packages (from nbconvert>=5->dataframe_image) (2.11.2)\n",
      "Requirement already satisfied: pandocfilters>=1.4.1 in /Users/irenewang/opt/miniconda3/lib/python3.9/site-packages (from nbconvert>=5->dataframe_image) (1.5.0)\n",
      "Requirement already satisfied: defusedxml in /Users/irenewang/opt/miniconda3/lib/python3.9/site-packages (from nbconvert>=5->dataframe_image) (0.7.1)\n",
      "Requirement already satisfied: entrypoints>=0.2.2 in /Users/irenewang/opt/miniconda3/lib/python3.9/site-packages (from nbconvert>=5->dataframe_image) (0.4)\n",
      "Requirement already satisfied: MarkupSafe>=2.0 in /Users/irenewang/opt/miniconda3/lib/python3.9/site-packages (from nbconvert>=5->dataframe_image) (2.1.1)\n",
      "Requirement already satisfied: bleach in /Users/irenewang/opt/miniconda3/lib/python3.9/site-packages (from nbconvert>=5->dataframe_image) (4.1.0)\n",
      "Requirement already satisfied: nbformat>=5.1 in /Users/irenewang/opt/miniconda3/lib/python3.9/site-packages (from nbconvert>=5->dataframe_image) (5.5.0)\n",
      "Requirement already satisfied: traitlets>=5.0 in /Users/irenewang/opt/miniconda3/lib/python3.9/site-packages (from nbconvert>=5->dataframe_image) (5.1.1)\n",
      "Requirement already satisfied: jinja2>=3.0 in /Users/irenewang/opt/miniconda3/lib/python3.9/site-packages (from nbconvert>=5->dataframe_image) (3.1.2)\n",
      "Requirement already satisfied: jupyter-core>=4.7 in /Users/irenewang/opt/miniconda3/lib/python3.9/site-packages (from nbconvert>=5->dataframe_image) (4.11.2)\n",
      "Requirement already satisfied: nbclient>=0.5.0 in /Users/irenewang/opt/miniconda3/lib/python3.9/site-packages (from nbconvert>=5->dataframe_image) (0.5.13)\n",
      "Requirement already satisfied: lxml in /Users/irenewang/opt/miniconda3/lib/python3.9/site-packages (from nbconvert>=5->dataframe_image) (4.9.1)\n",
      "Requirement already satisfied: jupyterlab-pygments in /Users/irenewang/opt/miniconda3/lib/python3.9/site-packages (from nbconvert>=5->dataframe_image) (0.1.2)\n",
      "Requirement already satisfied: tinycss2 in /Users/irenewang/opt/miniconda3/lib/python3.9/site-packages (from nbconvert>=5->dataframe_image) (1.2.1)\n",
      "Requirement already satisfied: nest-asyncio in /Users/irenewang/opt/miniconda3/lib/python3.9/site-packages (from nbclient>=0.5.0->nbconvert>=5->dataframe_image) (1.5.5)\n",
      "Requirement already satisfied: jupyter-client>=6.1.5 in /Users/irenewang/opt/miniconda3/lib/python3.9/site-packages (from nbclient>=0.5.0->nbconvert>=5->dataframe_image) (7.4.7)\n",
      "Requirement already satisfied: pyzmq>=23.0 in /Users/irenewang/opt/miniconda3/lib/python3.9/site-packages (from jupyter-client>=6.1.5->nbclient>=0.5.0->nbconvert>=5->dataframe_image) (23.2.0)\n",
      "Requirement already satisfied: tornado>=6.2 in /Users/irenewang/opt/miniconda3/lib/python3.9/site-packages (from jupyter-client>=6.1.5->nbclient>=0.5.0->nbconvert>=5->dataframe_image) (6.2)\n",
      "Requirement already satisfied: jsonschema>=2.6 in /Users/irenewang/opt/miniconda3/lib/python3.9/site-packages (from nbformat>=5.1->nbconvert>=5->dataframe_image) (4.16.0)\n",
      "Requirement already satisfied: fastjsonschema in /Users/irenewang/opt/miniconda3/lib/python3.9/site-packages (from nbformat>=5.1->nbconvert>=5->dataframe_image) (2.16.2)\n",
      "Requirement already satisfied: pyrsistent!=0.17.0,!=0.17.1,!=0.17.2,>=0.14.0 in /Users/irenewang/opt/miniconda3/lib/python3.9/site-packages (from jsonschema>=2.6->nbformat>=5.1->nbconvert>=5->dataframe_image) (0.18.0)\n",
      "Requirement already satisfied: attrs>=17.4.0 in /Users/irenewang/opt/miniconda3/lib/python3.9/site-packages (from jsonschema>=2.6->nbformat>=5.1->nbconvert>=5->dataframe_image) (22.1.0)\n",
      "Requirement already satisfied: pytz>=2020.1 in /Users/irenewang/opt/miniconda3/lib/python3.9/site-packages (from pandas>=0.24->dataframe_image) (2022.7.1)\n",
      "Requirement already satisfied: six>=1.5 in /Users/irenewang/opt/miniconda3/lib/python3.9/site-packages (from python-dateutil>=2.7->matplotlib>=3.1->dataframe_image) (1.16.0)\n",
      "Requirement already satisfied: async-timeout<5.0,>=4.0.0a3 in /Users/irenewang/opt/miniconda3/lib/python3.9/site-packages (from aiohttp->dataframe_image) (4.0.2)\n",
      "Requirement already satisfied: multidict<7.0,>=4.5 in /Users/irenewang/opt/miniconda3/lib/python3.9/site-packages (from aiohttp->dataframe_image) (6.0.4)\n",
      "Requirement already satisfied: charset-normalizer<4.0,>=2.0 in /Users/irenewang/opt/miniconda3/lib/python3.9/site-packages (from aiohttp->dataframe_image) (2.0.4)\n",
      "Requirement already satisfied: aiosignal>=1.1.2 in /Users/irenewang/opt/miniconda3/lib/python3.9/site-packages (from aiohttp->dataframe_image) (1.3.1)\n",
      "Requirement already satisfied: yarl<2.0,>=1.0 in /Users/irenewang/opt/miniconda3/lib/python3.9/site-packages (from aiohttp->dataframe_image) (1.8.2)\n",
      "Requirement already satisfied: frozenlist>=1.1.1 in /Users/irenewang/opt/miniconda3/lib/python3.9/site-packages (from aiohttp->dataframe_image) (1.3.3)\n",
      "Requirement already satisfied: idna>=2.0 in /Users/irenewang/opt/miniconda3/lib/python3.9/site-packages (from yarl<2.0,>=1.0->aiohttp->dataframe_image) (3.3)\n",
      "Requirement already satisfied: soupsieve>1.2 in /Users/irenewang/opt/miniconda3/lib/python3.9/site-packages (from beautifulsoup4->dataframe_image) (2.3.2.post1)\n",
      "Requirement already satisfied: webencodings in /Users/irenewang/opt/miniconda3/lib/python3.9/site-packages (from bleach->nbconvert>=5->dataframe_image) (0.5.1)\n",
      "Requirement already satisfied: certifi>=2017.4.17 in /Users/irenewang/opt/miniconda3/lib/python3.9/site-packages (from requests->dataframe_image) (2022.12.7)\n",
      "Requirement already satisfied: urllib3<1.27,>=1.21.1 in /Users/irenewang/opt/miniconda3/lib/python3.9/site-packages (from requests->dataframe_image) (1.26.9)\n",
      "Note: you may need to restart the kernel to use updated packages.\n"
     ]
    }
   ],
   "source": [
    "import numpy as np\n",
    "import pandas as pd\n",
    "import matplotlib.pyplot as plt\n",
    "%pip install dataframe_image\n",
    "import dataframe_image as dfi\n",
    "import math\n",
    "import plotly.graph_objects as go"
   ]
  },
  {
   "cell_type": "code",
   "execution_count": 2,
   "id": "43e3aa22",
   "metadata": {},
   "outputs": [
    {
     "name": "stdout",
     "output_type": "stream",
     "text": [
      "Requirement already satisfied: plotly in /Users/irenewang/opt/miniconda3/lib/python3.9/site-packages (5.14.0)\n",
      "Requirement already satisfied: packaging in /Users/irenewang/opt/miniconda3/lib/python3.9/site-packages (from plotly) (21.3)\n",
      "Requirement already satisfied: tenacity>=6.2.0 in /Users/irenewang/opt/miniconda3/lib/python3.9/site-packages (from plotly) (8.2.2)\n",
      "Requirement already satisfied: pyparsing!=3.0.5,>=2.0.2 in /Users/irenewang/opt/miniconda3/lib/python3.9/site-packages (from packaging->plotly) (3.0.9)\n",
      "Note: you may need to restart the kernel to use updated packages.\n"
     ]
    }
   ],
   "source": [
    "pip install plotly"
   ]
  },
  {
   "cell_type": "code",
   "execution_count": 3,
   "id": "a0d547ec",
   "metadata": {},
   "outputs": [],
   "source": [
    "delta = 0.99\n",
    "gamma = 1\n",
    "lambda_ = 2.5\n",
    "r_f = 10 ** -5\n",
    "b0 = np.linspace(0, 10, 101)"
   ]
  },
  {
   "cell_type": "code",
   "execution_count": 4,
   "id": "0e6c8f89",
   "metadata": {},
   "outputs": [],
   "source": [
    "np.random.seed(600)"
   ]
  },
  {
   "cell_type": "code",
   "execution_count": 5,
   "id": "e06517e8",
   "metadata": {},
   "outputs": [],
   "source": [
    "n_sim = 10 ** 4 "
   ]
  },
  {
   "cell_type": "code",
   "execution_count": 6,
   "id": "3bbf1444",
   "metadata": {},
   "outputs": [],
   "source": [
    "g_list = []\n",
    "for i in range(n_sim):\n",
    "    epsilon = np.random.standard_normal()\n",
    "    random_nu = np.random.uniform(1, 0)\n",
    "    if random_nu <= 0.2:\n",
    "        nu = np.log(0.75)\n",
    "    else:\n",
    "        nu = 0\n",
    "    g = np.exp(0.02 + 0.02 * epsilon + nu)\n",
    "    g_list.append(g)\n",
    "g_list = np.array(g_list)"
   ]
  },
  {
   "cell_type": "code",
   "execution_count": 7,
   "id": "da02608b",
   "metadata": {},
   "outputs": [],
   "source": [
    "x_less = 1\n",
    "e_xless = []\n",
    "for i in b0:\n",
    "    nu = np.where(x_less * g_list > 10 ** -5, \n",
    "                 x_less * g_list - 10 ** -5, \n",
    "                 lambda_ * (x_less * g_list - 10 ** -5))\n",
    "    e_x = delta * i * nu.mean() + delta * x_less - 1\n",
    "    e_xless.append(e_x)\n"
   ]
  },
  {
   "cell_type": "code",
   "execution_count": 8,
   "id": "20827f2a",
   "metadata": {},
   "outputs": [
    {
     "data": {
      "text/plain": [
       "True"
      ]
     },
     "execution_count": 8,
     "metadata": {},
     "output_type": "execute_result"
    }
   ],
   "source": [
    "x_more = 1.1\n",
    "e_xmore = []\n",
    "\n",
    "for i in b0:\n",
    "    nu = np.where(x_more * g_list > r_f, \n",
    "                 x_more * g_list - r_f, \n",
    "                 lambda_ * (x_more * g_list - r_f))\n",
    "    e_x = delta * i * nu.mean() + delta * x_more - 1\n",
    "    e_xmore.append(e_x)\n",
    "\n",
    "all(i > 0 for i in e_xmore)"
   ]
  },
  {
   "cell_type": "code",
   "execution_count": 9,
   "id": "3b11af6d",
   "metadata": {},
   "outputs": [
    {
     "ename": "KeyboardInterrupt",
     "evalue": "",
     "output_type": "error",
     "traceback": [
      "\u001b[0;31m---------------------------------------------------------------------------\u001b[0m",
      "\u001b[0;31mKeyboardInterrupt\u001b[0m                         Traceback (most recent call last)",
      "Cell \u001b[0;32mIn [9], line 22\u001b[0m\n\u001b[1;32m     20\u001b[0m         x_more \u001b[38;5;241m=\u001b[39m x0\n\u001b[1;32m     21\u001b[0m         x0 \u001b[38;5;241m=\u001b[39m (x_less \u001b[38;5;241m+\u001b[39m x_more) \u001b[38;5;241m/\u001b[39m \u001b[38;5;241m2\u001b[39m\n\u001b[0;32m---> 22\u001b[0m         nu \u001b[38;5;241m=\u001b[39m np\u001b[38;5;241m.\u001b[39mwhere(\u001b[43mx0\u001b[49m\u001b[43m \u001b[49m\u001b[38;5;241;43m*\u001b[39;49m\u001b[43m \u001b[49m\u001b[43mg_list\u001b[49m \u001b[38;5;241m>\u001b[39m r_f, \n\u001b[1;32m     23\u001b[0m                       x0 \u001b[38;5;241m*\u001b[39m g_list \u001b[38;5;241m-\u001b[39m r_f, \n\u001b[1;32m     24\u001b[0m                       lambda_ \u001b[38;5;241m*\u001b[39m (x0 \u001b[38;5;241m*\u001b[39m g_list \u001b[38;5;241m-\u001b[39m r_f))\n\u001b[1;32m     25\u001b[0m         e_x0 \u001b[38;5;241m=\u001b[39m delta \u001b[38;5;241m*\u001b[39m i \u001b[38;5;241m*\u001b[39m np\u001b[38;5;241m.\u001b[39mmean(nu) \u001b[38;5;241m+\u001b[39m delta \u001b[38;5;241m*\u001b[39m x0 \u001b[38;5;241m-\u001b[39m \u001b[38;5;241m1\u001b[39m\n\u001b[1;32m     26\u001b[0m x_list\u001b[38;5;241m.\u001b[39mappend(x0)\n",
      "\u001b[0;31mKeyboardInterrupt\u001b[0m: "
     ]
    }
   ],
   "source": [
    "x_list = []\n",
    "for i in b0:\n",
    "    x_less = 1\n",
    "    x_more = 1.1\n",
    "    x0 = (x_less + x_more) / 2\n",
    "    nu = np.where(x0 * g_list > 10 ** -5, \n",
    "                  x0 * g_list - 10 ** -5, \n",
    "                  lambda_ * (x0 * g_list - r_f))\n",
    "    e_x0 = delta * i * np.mean(nu) + delta * x0 - 1\n",
    "    \n",
    "    while np.absolute(e_x0) > 10 ** -5:\n",
    "        if e_x0 < 0:\n",
    "            x_less = x0\n",
    "            x0 = (x_less + x_more) / 2\n",
    "            nu = np.where(x0 * g_list > r_f, \n",
    "                          x0 * g_list - r_f, \n",
    "                          lambda_ * (x0 * g_list - r_f))\n",
    "            e_x0 = delta * i * np.mean(nu) + delta * x0 - 1\n",
    "        elif e_x0 > 0:\n",
    "            x_more = x0\n",
    "            x0 = (x_less + x_more) / 2\n",
    "            nu = np.where(x0 * g_list > r_f, \n",
    "                          x0 * g_list - r_f, \n",
    "                          lambda_ * (x0 * g_list - r_f))\n",
    "            e_x0 = delta * i * np.mean(nu) + delta * x0 - 1\n",
    "    x_list.append(x0)"
   ]
  },
  {
   "cell_type": "code",
   "execution_count": null,
   "id": "e1e21737",
   "metadata": {},
   "outputs": [],
   "source": [
    "fig = go.Figure(data = [go.Table(\n",
    "    header = dict(values = ['Equilibrium Value of x0', 'Value of b0'], \n",
    "                 line_color = 'darkslategrey', \n",
    "                 fill_color = 'lightskyblue', \n",
    "                 align='left'), \n",
    "cells = dict(values = [[x_list[0], x_list[1], x_list[2], x_list[3], x_list[4], x_list[5], x_list[6], x_list[7], x_list[8], x_list[9]], \n",
    "                       [b0[0], b0[1], b0[2], round(b0[3], 1), b0[4], b0[5], round(b0[6], 1), round(b0[7], 1), b0[8], b0[9]]], \n",
    "            line_color = 'darkslategrey', \n",
    "            fill_color = 'lightcyan', \n",
    "            align='left'))])\n",
    "\n",
    "layout = go.Layout(title = 'Table 1. The First Ten Equilibrium Value of x0 with Corresponding Value of b0')\n",
    "\n",
    "fig.update_layout(layout)\n",
    "fig.show()"
   ]
  },
  {
   "cell_type": "code",
   "execution_count": null,
   "id": "e7342078",
   "metadata": {},
   "outputs": [],
   "source": [
    "ratio_list = []\n",
    "for i in range(len(x_list)):\n",
    "    ratio = 1 / (x_list[i] - 1)\n",
    "    ratio_list.append(ratio)"
   ]
  },
  {
   "cell_type": "code",
   "execution_count": null,
   "id": "642e83d8",
   "metadata": {},
   "outputs": [],
   "source": [
    "fig = go.Figure(data = [go.Table(\n",
    "    header = dict(values = ['Price-Dividend Ratio', 'Value of b0'], \n",
    "                 line_color = 'darkslategrey', \n",
    "                 fill_color = 'lightskyblue', \n",
    "                 align='left'), \n",
    "cells = dict(values = [[ratio_list[0], ratio_list[1], ratio_list[2], ratio_list[3], ratio_list[4], ratio_list[5], ratio_list[6], ratio_list[7], ratio_list[8], ratio_list[9]], \n",
    "                       [b0[0], b0[1], b0[2], round(b0[3], 1), b0[4], b0[5], round(b0[6], 1), round(b0[7], 1), b0[8], b0[9]]], \n",
    "            line_color = 'darkslategrey', \n",
    "            fill_color = 'lightcyan', \n",
    "            align='left'))])\n",
    "\n",
    "layout = go.Layout(title = 'Table 2. The First Ten Price-Dividend Ratio with Corresponding Value of b0')\n",
    "\n",
    "fig.update_layout(layout)\n",
    "fig.show()"
   ]
  },
  {
   "cell_type": "code",
   "execution_count": null,
   "id": "902f3378",
   "metadata": {
    "scrolled": false
   },
   "outputs": [],
   "source": [
    "plt.figure(figsize = (16, 10))\n",
    "x = b0\n",
    "y = ratio_list\n",
    "plt.plot(x, y, color = 'green', linewidth = 2.5)\n",
    "\n",
    "plt.grid(color='blue', linewidth = 1, linestyle = '-.')\n",
    "\n",
    "plt.title(label = \"Figure 1: The Plot for Price-Dividend Ratio with corresponding value of b0\", \n",
    "         y = -0.15, \n",
    "          fontstyle = 'italic', \n",
    "         fontsize = 20)\n",
    "plt.ylabel('Price-Dividend Ratio', fontsize = 15)\n",
    "plt.xlabel('Value of b0', fontsize = 15)\n",
    "\n",
    "\n",
    "plt.savefig(\"Price-Dividend Ratio with value of b0.png\")\n",
    "plt.show()"
   ]
  },
  {
   "cell_type": "code",
   "execution_count": null,
   "id": "f937c65c",
   "metadata": {},
   "outputs": [],
   "source": []
  },
  {
   "cell_type": "code",
   "execution_count": null,
   "id": "9612e285",
   "metadata": {},
   "outputs": [],
   "source": []
  },
  {
   "cell_type": "code",
   "execution_count": null,
   "id": "6e710ec8",
   "metadata": {},
   "outputs": [],
   "source": [
    "rm_list = []\n",
    "for x in x_list:\n",
    "    rm = (x * g_list).mean()\n",
    "    rm_list.append(rm)\n",
    "rm_list = np.array(rm_list)"
   ]
  },
  {
   "cell_type": "code",
   "execution_count": null,
   "id": "b82f4772",
   "metadata": {},
   "outputs": [],
   "source": [
    "equity_premium = rm_list - r_f"
   ]
  },
  {
   "cell_type": "code",
   "execution_count": null,
   "id": "b199501e",
   "metadata": {},
   "outputs": [],
   "source": [
    "fig = go.Figure(data = [go.Table(\n",
    "    header = dict(values = ['Equity Premium', 'Expected Market Return', 'Value of b0'], \n",
    "                 line_color = 'darkslategrey', \n",
    "                 fill_color = 'lightskyblue', \n",
    "                 align='left'), \n",
    "cells = dict(values = [[equity_premium[0], equity_premium[1], equity_premium[2], equity_premium[3], equity_premium[4], equity_premium[5], equity_premium[6], equity_premium[7], equity_premium[8], equity_premium[9]],\n",
    "                       [rm_list[0], rm_list[1], rm_list[2], rm_list[3], rm_list[4], rm_list[5], rm_list[6], rm_list[7], rm_list[8], rm_list[9]], \n",
    "                       [b0[0], b0[1], b0[2], round(b0[3], 1), b0[4], b0[5], round(b0[6], 1), round(b0[7], 1), b0[8], b0[9]]], \n",
    "            line_color = 'darkslategrey', \n",
    "            fill_color = 'lightcyan', \n",
    "            align='left'))])\n",
    "\n",
    "layout = go.Layout(title = 'Table 3. The First Ten Equity Premium and Expected Market Return with Corresponding Value of b0')\n",
    "\n",
    "fig.update_layout(layout)\n",
    "fig.show()"
   ]
  },
  {
   "cell_type": "code",
   "execution_count": null,
   "id": "beab79e4",
   "metadata": {
    "scrolled": false
   },
   "outputs": [],
   "source": [
    "plt.figure(figsize = (16, 10))\n",
    "x = b0\n",
    "y = equity_premium\n",
    "plt.plot(x, y, color = 'green', linewidth = 2.5)\n",
    "\n",
    "plt.grid(color='blue', linewidth = 1, linestyle = '-.')\n",
    "\n",
    "plt.title(label = \"Figure 2: The Plot for Equity Premium with corresponding value of b0\", \n",
    "         y = -0.15, \n",
    "          fontstyle = 'italic', \n",
    "         fontsize = 20)\n",
    "plt.ylabel('Equity Premium', fontsize = 15)\n",
    "plt.xlabel('Value of b0', fontsize = 15)\n",
    "\n",
    "\n",
    "plt.savefig(\"Equity Premium with value of b0.png\")\n",
    "plt.show()"
   ]
  }
 ],
 "metadata": {
  "kernelspec": {
   "display_name": "Python 3 (ipykernel)",
   "language": "python",
   "name": "python3"
  },
  "language_info": {
   "codemirror_mode": {
    "name": "ipython",
    "version": 3
   },
   "file_extension": ".py",
   "mimetype": "text/x-python",
   "name": "python",
   "nbconvert_exporter": "python",
   "pygments_lexer": "ipython3",
   "version": "3.9.12"
  }
 },
 "nbformat": 4,
 "nbformat_minor": 5
}
